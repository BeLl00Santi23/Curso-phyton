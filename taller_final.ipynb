{
  "nbformat": 4,
  "nbformat_minor": 0,
  "metadata": {
    "colab": {
      "provenance": [],
      "authorship_tag": "ABX9TyOC7t0JukdquwGxBhbhMKgP",
      "include_colab_link": true
    },
    "kernelspec": {
      "name": "python3",
      "display_name": "Python 3"
    },
    "language_info": {
      "name": "python"
    }
  },
  "cells": [
    {
      "cell_type": "markdown",
      "metadata": {
        "id": "view-in-github",
        "colab_type": "text"
      },
      "source": [
        "<a href=\"https://colab.research.google.com/github/BeLl00Santi23/Curso-phyton/blob/main/taller_final.ipynb\" target=\"_parent\"><img src=\"https://colab.research.google.com/assets/colab-badge.svg\" alt=\"Open In Colab\"/></a>"
      ]
    },
    {
      "cell_type": "code",
      "source": [
        "import pandas as pd\n",
        "import numpy as np\n",
        "import matplotlib.pyplot as plt\n",
        "import seaborn as sns"
      ],
      "metadata": {
        "id": "7aj-m--Zlevx"
      },
      "execution_count": null,
      "outputs": []
    },
    {
      "cell_type": "code",
      "source": [
        "np.random.seed(42)\n",
        "states = [f\"State {i+1}\" for i in range(50)]\n",
        "crime_rate = np.random.rand(50) * 100  # Tasa de criminalidad simulada\n",
        "data = pd.DataFrame({'State': states, 'Crime Rate': crime_rate})"
      ],
      "metadata": {
        "id": "OGnZoLvclf6x"
      },
      "execution_count": null,
      "outputs": []
    },
    {
      "cell_type": "code",
      "source": [
        "bins = [0, 33, 66, 100]\n",
        "labels = ['Baja', 'Moderada', 'Alta']\n",
        "data['Crime Level'] = pd.cut(data['Crime Rate'], bins=bins, labels=labels)\n",
        "\n",
        "grouped_states = data['Crime Level'].value_counts().sort_index()\n",
        "print(grouped_states)"
      ],
      "metadata": {
        "id": "PvTpwYVGo3Jm"
      },
      "execution_count": null,
      "outputs": []
    },
    {
      "cell_type": "code",
      "source": [
        "high_crime_states = data[data['Crime Level'] == 'Alta']\n",
        "print(high_crime_states)"
      ],
      "metadata": {
        "id": "ugLAZ-NqqbQ1"
      },
      "execution_count": null,
      "outputs": []
    },
    {
      "cell_type": "code",
      "source": [
        "total_capacitados = 300\n",
        "total_pie = 500\n",
        "total_cadetes = 150\n",
        "\n",
        "data['Capacitados'] = np.where(data['Crime Level'] == 'Alta', total_capacitados / len(high_crime_states), 0)\n",
        "data['Pie'] = np.where(data['Crime Level'] == 'Moderada', total_pie / grouped_states['Moderada'],\n",
        "                       total_pie / grouped_states['Alta'])\n",
        "data['Cadetes'] = np.where(data['Crime Level'] == 'Baja', total_cadetes / grouped_states['Baja'], 0)\n",
        "\n",
        "print(data)"
      ],
      "metadata": {
        "id": "59pky2fWqgrc"
      },
      "execution_count": null,
      "outputs": []
    }
  ]
}