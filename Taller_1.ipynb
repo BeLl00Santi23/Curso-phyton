{
  "nbformat": 4,
  "nbformat_minor": 0,
  "metadata": {
    "colab": {
      "provenance": []
    },
    "kernelspec": {
      "name": "python3",
      "display_name": "Python 3"
    },
    "language_info": {
      "name": "python"
    }
  },
  "cells": [
    {
      "cell_type": "markdown",
      "source": [],
      "metadata": {
        "id": "XFlZTzxfdGLH"
      }
    },
    {
      "cell_type": "code",
      "source": [
        "print(10/3)\n"
      ],
      "metadata": {
        "id": "9BIyiZ1M81be",
        "colab": {
          "base_uri": "https://localhost:8080/"
        },
        "outputId": "6e694ff8-bb02-4dcf-85bd-14f8086be2ec"
      },
      "execution_count": null,
      "outputs": [
        {
          "output_type": "stream",
          "name": "stdout",
          "text": [
            "3.3333333333333335\n"
          ]
        }
      ]
    },
    {
      "cell_type": "code",
      "source": [
        "print(10%3)\n",
        "\n",
        "\n"
      ],
      "metadata": {
        "colab": {
          "base_uri": "https://localhost:8080/"
        },
        "id": "7d4nbogUkFSM",
        "outputId": "2763f19a-26da-483c-9164-74f2938d8892"
      },
      "execution_count": null,
      "outputs": [
        {
          "output_type": "stream",
          "name": "stdout",
          "text": [
            "1\n"
          ]
        }
      ]
    },
    {
      "cell_type": "code",
      "source": [
        "print(pow(10,3))\n"
      ],
      "metadata": {
        "id": "vUe_zf5mdD9N",
        "colab": {
          "base_uri": "https://localhost:8080/"
        },
        "outputId": "db7d0660-e2a2-4422-9e35-613c6069aa88"
      },
      "execution_count": null,
      "outputs": [
        {
          "output_type": "stream",
          "name": "stdout",
          "text": [
            "1000\n"
          ]
        }
      ]
    },
    {
      "cell_type": "code",
      "source": [
        "print(10//3)"
      ],
      "metadata": {
        "id": "6_a_0hQXeJp5",
        "colab": {
          "base_uri": "https://localhost:8080/"
        },
        "outputId": "a8ef8d64-84d3-4a32-8656-087a9ef102af"
      },
      "execution_count": null,
      "outputs": [
        {
          "output_type": "stream",
          "name": "stdout",
          "text": [
            "3\n"
          ]
        }
      ]
    },
    {
      "cell_type": "code",
      "source": [
        "saludo= 'hola,mundo'\n",
        "\n",
        "\n",
        "\n",
        "\n",
        "\n"
      ],
      "metadata": {
        "id": "HZGHgYqCrsw5"
      },
      "execution_count": null,
      "outputs": []
    },
    {
      "cell_type": "code",
      "source": [
        "'Hola,mundo' * 5"
      ],
      "metadata": {
        "id": "Bq_C-qJBsA85",
        "colab": {
          "base_uri": "https://localhost:8080/",
          "height": 35
        },
        "outputId": "acb19619-ab0b-4817-9da5-977d8c12ce9b"
      },
      "execution_count": null,
      "outputs": [
        {
          "output_type": "execute_result",
          "data": {
            "text/plain": [
              "'Hola,mundoHola,mundoHola,mundoHola,mundoHola,mundo'"
            ],
            "application/vnd.google.colaboratory.intrinsic+json": {
              "type": "string"
            }
          },
          "metadata": {},
          "execution_count": 21
        }
      ]
    },
    {
      "cell_type": "code",
      "source": [
        "saludo_completo = \"Hola, ¿cómo estás?\"\n",
        "saludo_mayusculas = saludo_completo.upper()\n",
        "print(saludo_mayusculas)\n",
        "\n",
        "\n"
      ],
      "metadata": {
        "id": "1npJBqF1Oisc",
        "colab": {
          "base_uri": "https://localhost:8080/"
        },
        "outputId": "2caa28d8-10e2-4915-ec3b-1d9366aa7aa6"
      },
      "execution_count": null,
      "outputs": [
        {
          "output_type": "stream",
          "name": "stdout",
          "text": [
            "HOLA, ¿CÓMO ESTÁS?\n"
          ]
        }
      ]
    },
    {
      "cell_type": "code",
      "source": [
        "saludo = \"Hola, ¿cómo estás?\"\n",
        "ultimos_5 = saludo[-5:]\n",
        "print(ultimos_5)\n"
      ],
      "metadata": {
        "id": "FZIu4lqpPfSu",
        "colab": {
          "base_uri": "https://localhost:8080/"
        },
        "outputId": "8b01aa10-b6ac-438d-fb75-c00d797a56c6"
      },
      "execution_count": null,
      "outputs": [
        {
          "output_type": "stream",
          "name": "stdout",
          "text": [
            "stás?\n"
          ]
        }
      ]
    },
    {
      "cell_type": "code",
      "source": [],
      "metadata": {
        "id": "KM5CRSXhSVOI"
      },
      "execution_count": null,
      "outputs": []
    },
    {
      "cell_type": "code",
      "source": [
        "saludo = \"saludo\"\n",
        "saludo_completo = saludo + \", ¿cómo estás?\"\n",
        "print(saludo_completo)\n"
      ],
      "metadata": {
        "id": "XdQZIqbrUG3y",
        "colab": {
          "base_uri": "https://localhost:8080/"
        },
        "outputId": "d34f5608-e382-448c-e4bb-6f83835922b6"
      },
      "execution_count": null,
      "outputs": [
        {
          "output_type": "stream",
          "name": "stdout",
          "text": [
            "saludo, ¿cómo estás?\n"
          ]
        }
      ]
    },
    {
      "cell_type": "code",
      "source": [
        "saludo_completo = \"Hola, mundo\"\n",
        "saludo_reemplazo = saludo_completo.replace(\"mundo\", \"Python\")\n",
        "print(saludo_reemplazo)\n"
      ],
      "metadata": {
        "id": "6XTuYQNiUnZz",
        "colab": {
          "base_uri": "https://localhost:8080/"
        },
        "outputId": "6aa01dd7-bf43-41dc-94bd-35e7dc5d6f46"
      },
      "execution_count": null,
      "outputs": [
        {
          "output_type": "stream",
          "name": "stdout",
          "text": [
            "Hola, Python\n"
          ]
        }
      ]
    }
  ]
}