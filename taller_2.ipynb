{
  "nbformat": 4,
  "nbformat_minor": 0,
  "metadata": {
    "colab": {
      "provenance": [],
      "authorship_tag": "ABX9TyNAU96qwr036z/f/6e9iy7I",
      "include_colab_link": true
    },
    "kernelspec": {
      "name": "python3",
      "display_name": "Python 3"
    },
    "language_info": {
      "name": "python"
    }
  },
  "cells": [
    {
      "cell_type": "markdown",
      "metadata": {
        "id": "view-in-github",
        "colab_type": "text"
      },
      "source": [
        "<a href=\"https://colab.research.google.com/github/BeLl00Santi23/Curso-phyton/blob/main/taller_2.ipynb\" target=\"_parent\"><img src=\"https://colab.research.google.com/assets/colab-badge.svg\" alt=\"Open In Colab\"/></a>"
      ]
    },
    {
      "cell_type": "code",
      "source": [
        "Edad =int(input(\"por favor ingresa tu edad \"))\n",
        "if Edad >= 18:\n",
        "    print(\"el usuario es mayor de edad\")\n",
        "else:\n",
        "  print(\"el usuario es menor de edad\")"
      ],
      "metadata": {
        "colab": {
          "base_uri": "https://localhost:8080/"
        },
        "id": "jbNpHFXGN27w",
        "outputId": "f50357d9-c347-4bb9-e1c2-37afe7de904c"
      },
      "execution_count": null,
      "outputs": [
        {
          "output_type": "stream",
          "name": "stdout",
          "text": [
            "por favor ingresa tu edad 100\n",
            "el usuario es mayor de edad\n"
          ]
        }
      ]
    },
    {
      "cell_type": "code",
      "source": [
        "def clasificar_edad(edad):\n",
        "    if edad < 0:\n",
        "        return \"Edad no válida\"\n",
        "    elif edad <= 12:\n",
        "        return \"Niño\"\n",
        "    elif edad <= 17:\n",
        "        return \"Adolescente\"\n",
        "    elif edad <= 64:\n",
        "        return \"Adulto\"\n",
        "    else:\n",
        "        return \"Anciano\"\n",
        "\n",
        "\n",
        "edad = int(input(\"Introduce tu edad: \"))\n",
        "categoria = clasificar_edad(edad)\n",
        "print(f\"Tu categoría de edad es: {categoria}\")\n"
      ],
      "metadata": {
        "colab": {
          "base_uri": "https://localhost:8080/"
        },
        "id": "17u-SyXAN3Lt",
        "outputId": "eb4d86fa-f7bc-4202-f7fc-34780a364d19"
      },
      "execution_count": null,
      "outputs": [
        {
          "output_type": "stream",
          "name": "stdout",
          "text": [
            "Introduce tu edad: 75\n",
            "Tu categoría de edad es: Anciano\n"
          ]
        }
      ]
    },
    {
      "cell_type": "code",
      "source": [
        "\n",
        "contraseña = input(\"Introduce la contraseña: \")\n",
        "\n",
        "\n",
        "if contraseña == \"secreta123\":\n",
        "    print(\"¡Contraseña correcta!\")\n",
        "else:\n",
        "    print(\"Contraseña incorrecta.\")"
      ],
      "metadata": {
        "colab": {
          "base_uri": "https://localhost:8080/"
        },
        "id": "K4n5Ebm8z5hH",
        "outputId": "4fbfee87-a1f9-46fc-adc9-3a8f34e45b62"
      },
      "execution_count": null,
      "outputs": [
        {
          "output_type": "stream",
          "name": "stdout",
          "text": [
            "Introduce la contraseña: 55555\n",
            "Contraseña incorrecta.\n"
          ]
        }
      ]
    },
    {
      "cell_type": "code",
      "source": [
        "valor_a = float(input(\"Ingrese numero a: \"))\n",
        "valor_b = float(input(\"Ingrese numero b: \"))\n",
        "\n",
        "if valor_a > valor_b:\n",
        "  print(\"Este es el mayor:\"+\" \"+str(valor_a))\n",
        "elif valor_a == valor_b:\n",
        "  print(\"los valores \"+str(valor_a)+\" y \"+str(valor_b)+\" son iguales\")\n",
        "else:\n",
        "  print(\"este es el mayor valor:\"+\" \"+str(valor_b))"
      ],
      "metadata": {
        "colab": {
          "base_uri": "https://localhost:8080/"
        },
        "id": "GsazcMJMxgcg",
        "outputId": "e905c7ae-cfa5-4444-904d-c2afe6c1f51e"
      },
      "execution_count": null,
      "outputs": [
        {
          "output_type": "stream",
          "name": "stdout",
          "text": [
            "Ingrese numero a: 5\n",
            "Ingrese numero b: 6\n",
            "este es el mayor valor: 6.0\n"
          ]
        }
      ]
    },
    {
      "cell_type": "code",
      "source": [
        "numero = int(input(\"Ingresa un número: \"))\n",
        "\n",
        "if 1 <= numero <= 100 and numero % 5 == 0:\n",
        "    print(f\"El número {numero} está en el rango de 1 a 100 y es divisible por 5.\")\n",
        "else:\n",
        "    print(f\"El número {numero} no cumple con las condiciones.\")"
      ],
      "metadata": {
        "id": "LdGa_jlg0wW9"
      },
      "execution_count": null,
      "outputs": []
    }
  ]
}