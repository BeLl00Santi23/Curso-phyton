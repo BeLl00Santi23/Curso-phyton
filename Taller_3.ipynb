{
  "nbformat": 4,
  "nbformat_minor": 0,
  "metadata": {
    "colab": {
      "provenance": [],
      "authorship_tag": "ABX9TyO6eeLsdvrL5eCuEmnBhpkc",
      "include_colab_link": true
    },
    "kernelspec": {
      "name": "python3",
      "display_name": "Python 3"
    },
    "language_info": {
      "name": "python"
    }
  },
  "cells": [
    {
      "cell_type": "markdown",
      "metadata": {
        "id": "view-in-github",
        "colab_type": "text"
      },
      "source": [
        "<a href=\"https://colab.research.google.com/github/BeLl00Santi23/Curso-phyton/blob/main/Taller_3.ipynb\" target=\"_parent\"><img src=\"https://colab.research.google.com/assets/colab-badge.svg\" alt=\"Open In Colab\"/></a>"
      ]
    },
    {
      "cell_type": "code",
      "execution_count": null,
      "metadata": {
        "id": "E_GFJ0iMHNij"
      },
      "outputs": [],
      "source": [
        "suma_pares = 0\n",
        "for numero in range(1, 101):\n",
        "    if numero % 2 == 0:\n",
        "        suma_pares += numero\n",
        "print(\"la suma total de los numeros pares del 1 al 100 es: {suma_pares}\")\n"
      ]
    },
    {
      "cell_type": "code",
      "source": [
        "numero_correcto = 5\n",
        "valores = (1,2,3,4,5,6,7,8,9,10)\n",
        "adivinanza = None\n",
        "while adivinanza != numero_correcto:\n",
        "    adivinanza = int(input(\"ingrese numero\"))\n",
        "    if adivinanza == numero_correcto:\n",
        "        print(\"numero adivinado\")\n",
        "        break\n",
        "    else:\n",
        "        print(\"numero no adivinado\")\n"
      ],
      "metadata": {
        "colab": {
          "base_uri": "https://localhost:8080/"
        },
        "id": "aR6Cwq-hHSAq",
        "outputId": "6815a158-632a-4a72-f4d0-e708a2022d56"
      },
      "execution_count": null,
      "outputs": [
        {
          "output_type": "stream",
          "name": "stdout",
          "text": [
            "ingrese numero45\n",
            "numero no adivinado\n",
            "ingrese numero56\n",
            "numero no adivinado\n",
            "ingrese numero5\n",
            "numero adivinado\n"
          ]
        }
      ]
    },
    {
      "cell_type": "code",
      "source": [
        "while True:\n",
        "    numero = int(input(\"Ingresa un número (0 para salir): \"))\n",
        "    if numero == 0:\n",
        "        print(\"Programa terminado.\")\n",
        "        break\n",
        "    else:\n",
        "        print(f\"Tabla de multiplicar del {numero}:\")\n",
        "        for i in range(1, 11):\n",
        "            print(f\"{numero} x {i} = {numero * i}\")\n"
      ],
      "metadata": {
        "colab": {
          "base_uri": "https://localhost:8080/"
        },
        "id": "1OniSUWyKcsu",
        "outputId": "713db56a-4b1e-4493-dfd1-3cc8e2ee08ed"
      },
      "execution_count": null,
      "outputs": [
        {
          "output_type": "stream",
          "name": "stdout",
          "text": [
            "Ingresa un número (0 para salir): 2\n",
            "Tabla de multiplicar del 2:\n",
            "2 x 1 = 2\n",
            "2 x 2 = 4\n",
            "2 x 3 = 6\n",
            "2 x 4 = 8\n",
            "2 x 5 = 10\n",
            "2 x 6 = 12\n",
            "2 x 7 = 14\n",
            "2 x 8 = 16\n",
            "2 x 9 = 18\n",
            "2 x 10 = 20\n",
            "Ingresa un número (0 para salir): 0\n",
            "Programa terminado.\n"
          ]
        }
      ]
    },
    {
      "cell_type": "code",
      "source": [
        "frase = input(\"ingrese una frase: \")\n",
        "vocales = \"AEIOUaeiou\"\n",
        "contador = 0\n",
        "for letra in frase:\n",
        "    if letra in vocales:\n",
        "        contador += 1\n",
        "print(contador)\n"
      ],
      "metadata": {
        "colab": {
          "base_uri": "https://localhost:8080/"
        },
        "id": "NmBSgeqiMPCZ",
        "outputId": "1a3a98af-548a-4543-a086-02902f2acb87"
      },
      "execution_count": null,
      "outputs": [
        {
          "output_type": "stream",
          "name": "stdout",
          "text": [
            "ingrese una frase: hola\n",
            "2\n"
          ]
        }
      ]
    },
    {
      "cell_type": "code",
      "source": [],
      "metadata": {
        "id": "Y5wdk1vAOZnP"
      },
      "execution_count": null,
      "outputs": []
    }
  ]
}